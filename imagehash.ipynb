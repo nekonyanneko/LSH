{
 "cells": [
  {
   "cell_type": "markdown",
   "metadata": {},
   "source": [
    "## install\n",
    " - pip install imagehash\n",
    " - pip install Image"
   ]
  },
  {
   "cell_type": "markdown",
   "metadata": {},
   "source": [
    "### 文字列を数値変換する\n",
    "1. binascii.hexlifyで文字列を16進数に変換\n",
    "2. int(,16)で10進数に変換\n",
    "3. binで2進数に変換"
   ]
  },
  {
   "cell_type": "code",
   "execution_count": 1,
   "metadata": {
    "collapsed": false
   },
   "outputs": [],
   "source": [
    "from PIL import Image\n",
    "import imagehash\n",
    "import binascii"
   ]
  },
  {
   "cell_type": "code",
   "execution_count": 2,
   "metadata": {
    "collapsed": false
   },
   "outputs": [
    {
     "data": {
      "text/plain": [
       "'0b11100110110010101101100011001010110001101110100001000000010101000100000011001100111001001101111011011010010000001110100011001010111001101110100010111110111010001100001011000100110110001100101'"
      ]
     },
     "execution_count": 2,
     "metadata": {},
     "output_type": "execute_result"
    }
   ],
   "source": [
    "bin(int(binascii.hexlify(b'select * from test_table'),16))"
   ]
  },
  {
   "cell_type": "code",
   "execution_count": 3,
   "metadata": {
    "collapsed": false
   },
   "outputs": [
    {
     "data": {
      "text/plain": [
       "'0b1110011011001010110110001100101011000110111010000100000001010100010000001100110011100100110111101101101001000000111010001100101011100110111010001011111011101000110000101100010011011000110010100110010'"
      ]
     },
     "execution_count": 3,
     "metadata": {},
     "output_type": "execute_result"
    }
   ],
   "source": [
    "bin(int(binascii.hexlify(b'select * from test_table2'),16))"
   ]
  },
  {
   "cell_type": "code",
   "execution_count": 4,
   "metadata": {
    "collapsed": false
   },
   "outputs": [
    {
     "data": {
      "text/plain": [
       "'0b11100110110000101101101011100000110110001100101001000000010101000100000011001100110111101110010011011010110000101110100001000000111010001100101011100110111010001011111011101000110000101100010011011000110010101110100'"
      ]
     },
     "execution_count": 4,
     "metadata": {},
     "output_type": "execute_result"
    }
   ],
   "source": [
    "bin(int(binascii.hexlify(b'sample * format test_tablet'),16))"
   ]
  },
  {
   "cell_type": "markdown",
   "metadata": {},
   "source": [
    "### 画像に変換してみる\n",
    "1. 2進数文字列の先頭\"0b\"を削除し、画像に変換する\n",
    " - \"0b\"は2進数を意味するが、画像にする際は不要"
   ]
  },
  {
   "cell_type": "code",
   "execution_count": 5,
   "metadata": {
    "collapsed": true
   },
   "outputs": [],
   "source": [
    "sample1 = bin(int(binascii.hexlify('select * from test_table'),16))[2:]\n",
    "canvas = Image.new('1', (len(sample1), 1))"
   ]
  },
  {
   "cell_type": "code",
   "execution_count": 6,
   "metadata": {
    "collapsed": false
   },
   "outputs": [],
   "source": [
    "for index,bit in enumerate(sample1):\n",
    "    canvas.putpixel((index, 0), int(bit))"
   ]
  },
  {
   "cell_type": "code",
   "execution_count": 7,
   "metadata": {
    "collapsed": false
   },
   "outputs": [],
   "source": [
    "canvas.save('sample1.png', 'PNG')"
   ]
  },
  {
   "cell_type": "code",
   "execution_count": 8,
   "metadata": {
    "collapsed": true
   },
   "outputs": [],
   "source": [
    "sample2 = bin(int(binascii.hexlify('select * from test_table2'),16))[2:]\n",
    "canvas = Image.new('1', (len(sample2), 1))"
   ]
  },
  {
   "cell_type": "code",
   "execution_count": 9,
   "metadata": {
    "collapsed": true
   },
   "outputs": [],
   "source": [
    "for index,bit in enumerate(sample2):\n",
    "    canvas.putpixel((index, 0), int(bit))"
   ]
  },
  {
   "cell_type": "code",
   "execution_count": 10,
   "metadata": {
    "collapsed": true
   },
   "outputs": [],
   "source": [
    "canvas.save('sample2.png', 'PNG')"
   ]
  },
  {
   "cell_type": "code",
   "execution_count": 11,
   "metadata": {
    "collapsed": true
   },
   "outputs": [],
   "source": [
    "sample3 = bin(int(binascii.hexlify('sample * format test_tablet'),16))[2:]\n",
    "canvas = Image.new('1', (len(sample3), 1))"
   ]
  },
  {
   "cell_type": "code",
   "execution_count": 12,
   "metadata": {
    "collapsed": true
   },
   "outputs": [],
   "source": [
    "for index,bit in enumerate(sample3):\n",
    "    canvas.putpixel((index, 0), int(bit))"
   ]
  },
  {
   "cell_type": "code",
   "execution_count": 13,
   "metadata": {
    "collapsed": true
   },
   "outputs": [],
   "source": [
    "canvas.save('sample3.png', 'PNG')"
   ]
  },
  {
   "cell_type": "markdown",
   "metadata": {},
   "source": [
    "### 画像をdhashでハッシュ化する\n",
    "1. 画像をインプットにdhashを算出\n",
    "2. 単純な差分で距離(類似度に相当)を算出"
   ]
  },
  {
   "cell_type": "code",
   "execution_count": 14,
   "metadata": {
    "collapsed": false
   },
   "outputs": [
    {
     "name": "stdout",
     "output_type": "stream",
     "text": [
      "3434343434343434\n"
     ]
    }
   ],
   "source": [
    "sample1hash = imagehash.dhash(Image.open('sample1.png'))\n",
    "print(sample1hash)"
   ]
  },
  {
   "cell_type": "code",
   "execution_count": 15,
   "metadata": {
    "collapsed": false
   },
   "outputs": [
    {
     "name": "stdout",
     "output_type": "stream",
     "text": [
      "3535353535353535\n"
     ]
    }
   ],
   "source": [
    "sample2hash = imagehash.dhash(Image.open('sample2.png'))\n",
    "print(sample2hash)"
   ]
  },
  {
   "cell_type": "code",
   "execution_count": 16,
   "metadata": {
    "collapsed": false
   },
   "outputs": [
    {
     "name": "stdout",
     "output_type": "stream",
     "text": [
      "2525252525252525\n"
     ]
    }
   ],
   "source": [
    "sample3hash = imagehash.dhash(Image.open('sample3.png'))\n",
    "print(sample3hash)"
   ]
  },
  {
   "cell_type": "code",
   "execution_count": 17,
   "metadata": {
    "collapsed": false
   },
   "outputs": [
    {
     "name": "stdout",
     "output_type": "stream",
     "text": [
      "8\n",
      "16\n",
      "8\n"
     ]
    }
   ],
   "source": [
    "print(sample1hash - sample2hash)\n",
    "print(sample1hash - sample3hash)\n",
    "print(sample2hash - sample3hash)"
   ]
  },
  {
   "cell_type": "markdown",
   "metadata": {},
   "source": [
    "2と3がやけに近い"
   ]
  },
  {
   "cell_type": "markdown",
   "metadata": {},
   "source": [
    "### 10進数で同様の処理を実行\n",
    "1. 10進数をカラー255に変換する\n",
    " - 視覚的にわかりやすくするためにmax255に正規化する"
   ]
  },
  {
   "cell_type": "code",
   "execution_count": 18,
   "metadata": {
    "collapsed": false
   },
   "outputs": [],
   "source": [
    "sample1 = str(int(binascii.hexlify('select * from test_table'),16))\n",
    "canvas = Image.new('L', (len(sample1), 1))\n",
    "_max = int(max(sample1))"
   ]
  },
  {
   "cell_type": "code",
   "execution_count": 19,
   "metadata": {
    "collapsed": false
   },
   "outputs": [],
   "source": [
    "for index,bit in enumerate(sample1):\n",
    "    canvas.putpixel((index, 0), int(int(bit)/float(_max)*255))"
   ]
  },
  {
   "cell_type": "code",
   "execution_count": 20,
   "metadata": {
    "collapsed": true
   },
   "outputs": [],
   "source": [
    "canvas.save('sample1.png', 'PNG')"
   ]
  },
  {
   "cell_type": "code",
   "execution_count": 21,
   "metadata": {
    "collapsed": false
   },
   "outputs": [],
   "source": [
    "sample2 = str(int(binascii.hexlify('select * from test_table2'),16))\n",
    "canvas = Image.new('L', (len(sample2), 1))\n",
    "_max = int(max(sample2))"
   ]
  },
  {
   "cell_type": "code",
   "execution_count": 22,
   "metadata": {
    "collapsed": true
   },
   "outputs": [],
   "source": [
    "for index,bit in enumerate(sample2):\n",
    "    canvas.putpixel((index, 0), int(int(bit)/float(_max)*255))"
   ]
  },
  {
   "cell_type": "code",
   "execution_count": 23,
   "metadata": {
    "collapsed": true
   },
   "outputs": [],
   "source": [
    "canvas.save('sample2.png', 'PNG')"
   ]
  },
  {
   "cell_type": "code",
   "execution_count": 24,
   "metadata": {
    "collapsed": true
   },
   "outputs": [],
   "source": [
    "sample3 = str(int(binascii.hexlify('sample * format test_tablet'),16))\n",
    "canvas = Image.new('L', (len(sample3), 1))\n",
    "_max = int(max(sample3))"
   ]
  },
  {
   "cell_type": "code",
   "execution_count": 25,
   "metadata": {
    "collapsed": true
   },
   "outputs": [],
   "source": [
    "for index,bit in enumerate(sample3):\n",
    "    canvas.putpixel((index, 0), int(bit))"
   ]
  },
  {
   "cell_type": "code",
   "execution_count": 26,
   "metadata": {
    "collapsed": true
   },
   "outputs": [],
   "source": [
    "canvas.save('sample3.png', 'PNG')"
   ]
  },
  {
   "cell_type": "code",
   "execution_count": 27,
   "metadata": {
    "collapsed": false
   },
   "outputs": [
    {
     "name": "stdout",
     "output_type": "stream",
     "text": [
      "7676767676767676\n",
      "9393939393939393\n",
      "0909090909090909\n"
     ]
    }
   ],
   "source": [
    "sample1hash = imagehash.dhash(Image.open('sample1.png'))\n",
    "print(sample1hash)\n",
    "sample2hash = imagehash.dhash(Image.open('sample2.png'))\n",
    "print(sample2hash)\n",
    "sample3hash = imagehash.dhash(Image.open('sample3.png'))\n",
    "print(sample3hash)"
   ]
  },
  {
   "cell_type": "code",
   "execution_count": 28,
   "metadata": {
    "collapsed": false
   },
   "outputs": [
    {
     "name": "stdout",
     "output_type": "stream",
     "text": [
      "40\n",
      "56\n",
      "32\n"
     ]
    }
   ],
   "source": [
    "print(sample1hash - sample2hash)\n",
    "print(sample1hash - sample3hash)\n",
    "print(sample2hash - sample3hash)"
   ]
  },
  {
   "cell_type": "markdown",
   "metadata": {},
   "source": [
    "さっきよりも悪い結果に"
   ]
  },
  {
   "cell_type": "markdown",
   "metadata": {},
   "source": [
    "### LSHで分類してみる\n",
    "1. 文字列を2進数変換\n",
    "2. csv形式で出力する\n",
    " - 0列目はデータの名称\n",
    "    - format:hogehoge_[0-9]{1,}\n",
    " - 各列にビットを立てる\n",
    "3. LSHでclusteringする"
   ]
  },
  {
   "cell_type": "code",
   "execution_count": 29,
   "metadata": {
    "collapsed": false
   },
   "outputs": [],
   "source": [
    "from LocalitySensitiveHashing import *\n",
    "import pandas as pd"
   ]
  },
  {
   "cell_type": "code",
   "execution_count": 30,
   "metadata": {
    "collapsed": false
   },
   "outputs": [
    {
     "name": "stdout",
     "output_type": "stream",
     "text": [
      "11100110110010101101100011001010110001101110100001000000010101000100000011001100111001001101111011011010010000001110100011001010111001101110100010111110111010001100001011000100110110001100101\n",
      "1110011011001010110110001100101011000110111010000100000001010100010000001100110011100100110111101101101001000000111010001100101011100110111010001011111011101000110000101100010011011000110010100110010\n",
      "11100110110000101101101011100000110110001100101001000000010101000100000011001100110111101110010011011010110000101110100001000000111010001100101011100110111010001011111011101000110000101100010011011000110010101110100\n"
     ]
    }
   ],
   "source": [
    "sample1 = bin(int(binascii.hexlify('select * from test_table'),16))[2:]\n",
    "sample2 = bin(int(binascii.hexlify('select * from test_table2'),16))[2:]\n",
    "sample3 = bin(int(binascii.hexlify('sample * format test_tablet'),16))[2:]\n",
    "print(sample1)\n",
    "print(sample2)\n",
    "print(sample3)"
   ]
  },
  {
   "cell_type": "code",
   "execution_count": 31,
   "metadata": {
    "collapsed": false
   },
   "outputs": [
    {
     "name": "stdout",
     "output_type": "stream",
     "text": [
      "215\n"
     ]
    }
   ],
   "source": [
    "length = max([len(sample1),len(sample2),len(sample3)])\n",
    "print(length)"
   ]
  },
  {
   "cell_type": "code",
   "execution_count": 32,
   "metadata": {
    "collapsed": false
   },
   "outputs": [],
   "source": [
    "df = pd.DataFrame()"
   ]
  },
  {
   "cell_type": "code",
   "execution_count": 33,
   "metadata": {
    "collapsed": false
   },
   "outputs": [],
   "source": [
    "list = []\n",
    "list.append('sample_10')\n",
    "for data in enumerate(sample1):\n",
    "    list.append(data[1])\n",
    "for index in range(length - len(sample1)):\n",
    "    list.append('0')\n",
    "df = df.append([list])"
   ]
  },
  {
   "cell_type": "code",
   "execution_count": 34,
   "metadata": {
    "collapsed": false
   },
   "outputs": [],
   "source": [
    "list = []\n",
    "list.append('sample_1')\n",
    "for data in enumerate(sample2):\n",
    "    list.append(data[1])\n",
    "for index in range(length - len(sample2)):\n",
    "    list.append('0')\n",
    "df = df.append([list])"
   ]
  },
  {
   "cell_type": "code",
   "execution_count": 35,
   "metadata": {
    "collapsed": false
   },
   "outputs": [],
   "source": [
    "list = []\n",
    "list.append('sample_2')\n",
    "for data in enumerate(sample3):\n",
    "    list.append(data[1])\n",
    "for index in range(length - len(sample3)):\n",
    "    list.append('0')\n",
    "df = df.append([list])"
   ]
  },
  {
   "cell_type": "code",
   "execution_count": 36,
   "metadata": {
    "collapsed": false,
    "scrolled": true
   },
   "outputs": [
    {
     "data": {
      "text/html": [
       "<div>\n",
       "<style scoped>\n",
       "    .dataframe tbody tr th:only-of-type {\n",
       "        vertical-align: middle;\n",
       "    }\n",
       "\n",
       "    .dataframe tbody tr th {\n",
       "        vertical-align: top;\n",
       "    }\n",
       "\n",
       "    .dataframe thead th {\n",
       "        text-align: right;\n",
       "    }\n",
       "</style>\n",
       "<table border=\"1\" class=\"dataframe\">\n",
       "  <thead>\n",
       "    <tr style=\"text-align: right;\">\n",
       "      <th></th>\n",
       "      <th>0</th>\n",
       "      <th>1</th>\n",
       "      <th>2</th>\n",
       "      <th>3</th>\n",
       "      <th>4</th>\n",
       "      <th>5</th>\n",
       "      <th>6</th>\n",
       "      <th>7</th>\n",
       "      <th>8</th>\n",
       "      <th>9</th>\n",
       "      <th>...</th>\n",
       "      <th>206</th>\n",
       "      <th>207</th>\n",
       "      <th>208</th>\n",
       "      <th>209</th>\n",
       "      <th>210</th>\n",
       "      <th>211</th>\n",
       "      <th>212</th>\n",
       "      <th>213</th>\n",
       "      <th>214</th>\n",
       "      <th>215</th>\n",
       "    </tr>\n",
       "  </thead>\n",
       "  <tbody>\n",
       "    <tr>\n",
       "      <th>0</th>\n",
       "      <td>sample_10</td>\n",
       "      <td>1</td>\n",
       "      <td>1</td>\n",
       "      <td>1</td>\n",
       "      <td>0</td>\n",
       "      <td>0</td>\n",
       "      <td>1</td>\n",
       "      <td>1</td>\n",
       "      <td>0</td>\n",
       "      <td>1</td>\n",
       "      <td>...</td>\n",
       "      <td>0</td>\n",
       "      <td>0</td>\n",
       "      <td>0</td>\n",
       "      <td>0</td>\n",
       "      <td>0</td>\n",
       "      <td>0</td>\n",
       "      <td>0</td>\n",
       "      <td>0</td>\n",
       "      <td>0</td>\n",
       "      <td>0</td>\n",
       "    </tr>\n",
       "    <tr>\n",
       "      <th>0</th>\n",
       "      <td>sample_1</td>\n",
       "      <td>1</td>\n",
       "      <td>1</td>\n",
       "      <td>1</td>\n",
       "      <td>0</td>\n",
       "      <td>0</td>\n",
       "      <td>1</td>\n",
       "      <td>1</td>\n",
       "      <td>0</td>\n",
       "      <td>1</td>\n",
       "      <td>...</td>\n",
       "      <td>0</td>\n",
       "      <td>0</td>\n",
       "      <td>0</td>\n",
       "      <td>0</td>\n",
       "      <td>0</td>\n",
       "      <td>0</td>\n",
       "      <td>0</td>\n",
       "      <td>0</td>\n",
       "      <td>0</td>\n",
       "      <td>0</td>\n",
       "    </tr>\n",
       "    <tr>\n",
       "      <th>0</th>\n",
       "      <td>sample_2</td>\n",
       "      <td>1</td>\n",
       "      <td>1</td>\n",
       "      <td>1</td>\n",
       "      <td>0</td>\n",
       "      <td>0</td>\n",
       "      <td>1</td>\n",
       "      <td>1</td>\n",
       "      <td>0</td>\n",
       "      <td>1</td>\n",
       "      <td>...</td>\n",
       "      <td>0</td>\n",
       "      <td>1</td>\n",
       "      <td>0</td>\n",
       "      <td>1</td>\n",
       "      <td>1</td>\n",
       "      <td>1</td>\n",
       "      <td>0</td>\n",
       "      <td>1</td>\n",
       "      <td>0</td>\n",
       "      <td>0</td>\n",
       "    </tr>\n",
       "  </tbody>\n",
       "</table>\n",
       "<p>3 rows × 216 columns</p>\n",
       "</div>"
      ],
      "text/plain": [
       "         0   1   2   3   4   5   6   7   8   9   ... 206 207 208 209 210 211  \\\n",
       "0  sample_10   1   1   1   0   0   1   1   0   1 ...   0   0   0   0   0   0   \n",
       "0   sample_1   1   1   1   0   0   1   1   0   1 ...   0   0   0   0   0   0   \n",
       "0   sample_2   1   1   1   0   0   1   1   0   1 ...   0   1   0   1   1   1   \n",
       "\n",
       "  212 213 214 215  \n",
       "0   0   0   0   0  \n",
       "0   0   0   0   0  \n",
       "0   0   1   0   0  \n",
       "\n",
       "[3 rows x 216 columns]"
      ]
     },
     "execution_count": 36,
     "metadata": {},
     "output_type": "execute_result"
    }
   ],
   "source": [
    "df"
   ]
  },
  {
   "cell_type": "code",
   "execution_count": 37,
   "metadata": {
    "collapsed": true
   },
   "outputs": [],
   "source": [
    "datafile = \"data.csv\""
   ]
  },
  {
   "cell_type": "code",
   "execution_count": 38,
   "metadata": {
    "collapsed": true
   },
   "outputs": [],
   "source": [
    "df.to_csv(datafile, index=False, header=False)"
   ]
  },
  {
   "cell_type": "code",
   "execution_count": 39,
   "metadata": {
    "collapsed": true
   },
   "outputs": [],
   "source": [
    "lsh = LocalitySensitiveHashing(\n",
    "                   datafile = datafile,\n",
    "                   dim = length,\n",
    "                   r = 50,\n",
    "                   b = 100,\n",
    "                   expected_num_of_clusters = len(df), # 全てのデータがバラバラのクラスタであることも想定\n",
    "          )"
   ]
  },
  {
   "cell_type": "code",
   "execution_count": 40,
   "metadata": {
    "collapsed": false
   },
   "outputs": [
    {
     "name": "stdout",
     "output_type": "stream",
     "text": [
      "."
     ]
    }
   ],
   "source": [
    "lsh.get_data_from_csv()\n",
    "lsh.initialize_hash_store()\n",
    "lsh.hash_all_data()\n",
    "similarity_groups = lsh.lsh_basic_for_neighborhood_clusters()\n",
    "coalesced_similarity_groups = lsh.merge_similarity_groups_with_coalescence( similarity_groups )\n",
    "merged_similarity_groups = lsh.merge_similarity_groups_with_l2norm_sample_based( coalesced_similarity_groups )\n",
    "lsh.write_clusters_to_file( merged_similarity_groups, \"clusters.txt\")"
   ]
  },
  {
   "cell_type": "code",
   "execution_count": 41,
   "metadata": {
    "collapsed": false
   },
   "outputs": [
    {
     "data": {
      "text/plain": [
       "[{'sample_1', 'sample_10'}, {'sample_2'}]"
      ]
     },
     "execution_count": 41,
     "metadata": {},
     "output_type": "execute_result"
    }
   ],
   "source": [
    "merged_similarity_groups"
   ]
  }
 ],
 "metadata": {
  "kernelspec": {
   "display_name": "Python 2",
   "language": "python",
   "name": "python2"
  },
  "language_info": {
   "codemirror_mode": {
    "name": "ipython",
    "version": 2
   },
   "file_extension": ".py",
   "mimetype": "text/x-python",
   "name": "python",
   "nbconvert_exporter": "python",
   "pygments_lexer": "ipython2",
   "version": "2.7.12"
  }
 },
 "nbformat": 4,
 "nbformat_minor": 0
}
