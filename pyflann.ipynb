{
 "cells": [
  {
   "cell_type": "code",
   "execution_count": 1,
   "metadata": {
    "collapsed": false
   },
   "outputs": [],
   "source": [
    "import pyflann\n",
    "from sklearn.datasets import load_svmlight_file"
   ]
  },
  {
   "cell_type": "code",
   "execution_count": 6,
   "metadata": {
    "collapsed": true
   },
   "outputs": [],
   "source": [
    "def main():\n",
    "  # とりあえず検索対象のデータとしてMNISTのデータを使う。\n",
    "  # MNISTのデータはLIBSVM Dataのページからダウンロードできる。\n",
    "  targets, _ = load_svmlight_file('mnist.scale')\n",
    "  targets = targets.toarray()\n",
    "  print(targets)\n",
    "\n",
    "  # 距離を設定する。一般的なユークリッド距離（euclidean）の他に、\n",
    "  # マンハッタン距離（manhattan）とか\n",
    "  # ヒストグラムインターセクションカーネル（hik）とかがある。\n",
    "  pyflann.set_distance_type('euclidean')\n",
    "\n",
    "  # 検索インデックスを作成する。\n",
    "  # algorithmはHierarchical K-Means Clustering Treeを選択した。\n",
    "  # 他にもRandomized KD-Treeなどがある。\n",
    "  # centers_initはK-Meansの初期値の設定方法を指定する（デフォルトはランダム）。\n",
    "  # 再現性を確保したい場合にはrandom_seedを指定すると良い。\n",
    "  search_idx = pyflann.FLANN()\n",
    "  params = search_idx.build_index(targets, algorithm='kmeans', \n",
    "    centers_init='kmeanspp', random_seed=1984)\n",
    "  \n",
    "  # 検索インデックスのパラメータを見てみる。\n",
    "  print(params)\n",
    "\n",
    "  # 作成した検索インデックスを保存する。\n",
    "  search_idx.save_index('mnist.idx')"
   ]
  },
  {
   "cell_type": "code",
   "execution_count": 7,
   "metadata": {
    "collapsed": false
   },
   "outputs": [
    {
     "name": "stdout",
     "output_type": "stream",
     "text": [
      "[[0. 0. 0. ... 0. 0. 0.]\n",
      " [0. 0. 0. ... 0. 0. 0.]\n",
      " [0. 0. 0. ... 0. 0. 0.]\n",
      " ...\n",
      " [0. 0. 0. ... 0. 0. 0.]\n",
      " [0. 0. 0. ... 0. 0. 0.]\n",
      " [0. 0. 0. ... 0. 0. 0.]]\n",
      "{'branching': 32, 'cb_index': 0.5, 'centers_init': 'kmeanspp', 'log_level': 'warning', 'algorithm': 'kmeans', 'build_weight': 0.009999999776482582, 'leaf_max_size': 4, 'eps': 0.0, 'trees': 1, 'speedup': 0.0, 'memory_weight': 0.0, 'target_precision': 0.8999999761581421, 'sample_fraction': 0.10000000149011612, 'iterations': 5, 'random_seed': 1984, 'checks': 32}\n"
     ]
    }
   ],
   "source": [
    "main()"
   ]
  },
  {
   "cell_type": "code",
   "execution_count": null,
   "metadata": {
    "collapsed": true
   },
   "outputs": [],
   "source": []
  }
 ],
 "metadata": {
  "kernelspec": {
   "display_name": "Python 2",
   "language": "python",
   "name": "python2"
  },
  "language_info": {
   "codemirror_mode": {
    "name": "ipython",
    "version": 2
   },
   "file_extension": ".py",
   "mimetype": "text/x-python",
   "name": "python",
   "nbconvert_exporter": "python",
   "pygments_lexer": "ipython2",
   "version": "2.7.12"
  }
 },
 "nbformat": 4,
 "nbformat_minor": 2
}
